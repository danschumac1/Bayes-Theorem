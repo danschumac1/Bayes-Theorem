{
 "cells": [
  {
   "cell_type": "markdown",
   "id": "560b5d93",
   "metadata": {},
   "source": [
    "# Baye's Theorem"
   ]
  },
  {
   "cell_type": "markdown",
   "id": "c3a8af52",
   "metadata": {},
   "source": [
    "This formula shows the probability that an event will happen given that a related event took place"
   ]
  },
  {
   "cell_type": "markdown",
   "id": "69d5457d",
   "metadata": {},
   "source": [
    "## Formula and Variables discusion"
   ]
  },
  {
   "cell_type": "markdown",
   "id": "0b305ebd",
   "metadata": {},
   "source": [
    "pAgiveB : The probability of A happening, give B."
   ]
  },
  {
   "cell_type": "markdown",
   "id": "3c98169b",
   "metadata": {},
   "source": [
    "pBgiveA : The probability of B happening, give A.\n"
   ]
  },
  {
   "cell_type": "markdown",
   "id": "f91a1f58",
   "metadata": {},
   "source": [
    "pA      : The probability of A happening. "
   ]
  },
  {
   "cell_type": "markdown",
   "id": "cd1cf0a1",
   "metadata": {},
   "source": [
    "pB      : The probability of B happening. "
   ]
  },
  {
   "cell_type": "markdown",
   "id": "47b1cd60",
   "metadata": {},
   "source": [
    "### Using those variables, this is Baye's Theorem"
   ]
  },
  {
   "cell_type": "markdown",
   "id": "1a8a65b0",
   "metadata": {},
   "source": [
    "pAgiveB =(pBgiveA*pA)/pB"
   ]
  },
  {
   "cell_type": "markdown",
   "id": "dfc78ab9",
   "metadata": {},
   "source": [
    "## Code"
   ]
  },
  {
   "cell_type": "code",
   "execution_count": 6,
   "id": "1bb4f0b4",
   "metadata": {},
   "outputs": [],
   "source": [
    "def find_pAgiveB(pBgiveA, pA, pB):\n",
    "    pAgiveB = (pBgiveA*pA)/pB\n",
    "    return pAgiveB"
   ]
  },
  {
   "cell_type": "code",
   "execution_count": 7,
   "id": "5baee12c",
   "metadata": {},
   "outputs": [
    {
     "data": {
      "text/plain": [
       "0.32"
      ]
     },
     "execution_count": 7,
     "metadata": {},
     "output_type": "execute_result"
    }
   ],
   "source": [
    "find_pAgiveB(.08,.4,.1)"
   ]
  }
 ],
 "metadata": {
  "kernelspec": {
   "display_name": "Python 3 (ipykernel)",
   "language": "python",
   "name": "python3"
  },
  "language_info": {
   "codemirror_mode": {
    "name": "ipython",
    "version": 3
   },
   "file_extension": ".py",
   "mimetype": "text/x-python",
   "name": "python",
   "nbconvert_exporter": "python",
   "pygments_lexer": "ipython3",
   "version": "3.9.12"
  }
 },
 "nbformat": 4,
 "nbformat_minor": 5
}
